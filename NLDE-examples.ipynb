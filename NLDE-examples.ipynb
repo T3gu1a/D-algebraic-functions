{
 "cells": [
  {
   "cell_type": "markdown",
   "id": "2839bc8b",
   "metadata": {},
   "source": [
    "#### Loading the package NLDE"
   ]
  },
  {
   "cell_type": "code",
   "execution_count": 1,
   "id": "a4021a36",
   "metadata": {},
   "outputs": [
    {
     "data": {
      "text/markdown": [
       "$$[\\mathit{SystoMinDiffPoly}, \\mathit{addDalg}, \\mathit{compDalg}, \\mathit{divDalg}, \\mathit{intDalg}, \\mathit{mulDalg}, \\mathit{unaryDalg}]$$"
      ]
     },
     "execution_count": 1,
     "metadata": {},
     "output_type": "execute_result"
    }
   ],
   "source": [
    "with(NLDE)"
   ]
  },
  {
   "cell_type": "markdown",
   "id": "bb259ac5",
   "metadata": {},
   "source": [
    "#### Define the two differential equations DE1 and DE2"
   ]
  },
  {
   "cell_type": "code",
   "execution_count": 2,
   "id": "9d4c4503",
   "metadata": {},
   "outputs": [
    {
     "data": {
      "text/markdown": [
       "$$\\frac{d^{2}}{d t^{2}}x \\left(t \\right)+x \\left(t \\right) = 0$$"
      ]
     },
     "execution_count": 2,
     "metadata": {},
     "output_type": "execute_result"
    }
   ],
   "source": [
    "DE1:=diff(x(t),t,t)+x(t)=0"
   ]
  },
  {
   "cell_type": "code",
   "execution_count": 3,
   "id": "325f27f8",
   "metadata": {},
   "outputs": [
    {
     "data": {
      "text/markdown": [
       "$$\\frac{d}{d t}y \\left(t \\right)-y \\left(t \\right) = 0$$"
      ]
     },
     "execution_count": 3,
     "metadata": {},
     "output_type": "execute_result"
    }
   ],
   "source": [
    "DE2:=diff(y(t),t)-y(t)=0"
   ]
  },
  {
   "cell_type": "markdown",
   "id": "34a8cde3",
   "metadata": {},
   "source": [
    "#### Compute a differential equation for compositions of solutions to DE1 and DE2"
   ]
  },
  {
   "cell_type": "code",
   "execution_count": 4,
   "id": "b251c9a0",
   "metadata": {},
   "outputs": [
    {
     "data": {
      "text/markdown": [
       "$$-2 z \\left(t \\right) \\left(\\frac{d}{d t}z \\left(t \\right)\\right)+3 z \\left(t \\right) \\left(\\frac{d^{2}}{d t^{2}}z \\left(t \\right)\\right)-z \\left(t \\right) \\left(\\frac{d^{3}}{d t^{3}}z \\left(t \\right)\\right)-\\left(\\frac{d}{d t}z \\left(t \\right)\\right)^{2}+\\left(\\frac{d}{d t}z \\left(t \\right)\\right) \\left(\\frac{d^{2}}{d t^{2}}z \\left(t \\right)\\right) = 0$$"
      ]
     },
     "execution_count": 4,
     "metadata": {},
     "output_type": "execute_result"
    }
   ],
   "source": [
    "compDalg([DE1,DE2],[x(t),y(t)],z(t))"
   ]
  },
  {
   "cell_type": "markdown",
   "id": "12242ba5",
   "metadata": {},
   "source": [
    "#### Compute a differential equation for sums of solutions to DE1 and DE2"
   ]
  },
  {
   "cell_type": "code",
   "execution_count": 5,
   "id": "504db217",
   "metadata": {},
   "outputs": [
    {
     "data": {
      "text/markdown": [
       "$$\\frac{d^{3}}{d t^{3}}z \\left(t \\right)-\\frac{d^{2}}{d t^{2}}z \\left(t \\right)+\\frac{d}{d t}z \\left(t \\right)-z \\left(t \\right) = 0$$"
      ]
     },
     "execution_count": 5,
     "metadata": {},
     "output_type": "execute_result"
    }
   ],
   "source": [
    "addDalg([DE1,DE2],[x(t),y(t)],z(t))"
   ]
  },
  {
   "cell_type": "markdown",
   "id": "871edd9d",
   "metadata": {},
   "source": [
    "#### Compute a differential equation for products of solutions to DE1 and DE2"
   ]
  },
  {
   "cell_type": "code",
   "execution_count": 6,
   "id": "d68a1bab",
   "metadata": {},
   "outputs": [
    {
     "data": {
      "text/markdown": [
       "$$\\frac{d^{2}}{d t^{2}}z \\left(t \\right)-2 \\frac{d}{d t}z \\left(t \\right)+2 z \\left(t \\right) = 0$$"
      ]
     },
     "execution_count": 6,
     "metadata": {},
     "output_type": "execute_result"
    }
   ],
   "source": [
    "mulDalg([DE1,DE2],[x(t),y(t)],z(t))"
   ]
  },
  {
   "cell_type": "markdown",
   "id": "7c8b278c",
   "metadata": {},
   "source": [
    "#### Compute a differential equation for ratios of solutions to DE1 by DE2"
   ]
  },
  {
   "cell_type": "code",
   "execution_count": 7,
   "id": "15e2e397",
   "metadata": {},
   "outputs": [
    {
     "data": {
      "text/markdown": [
       "$$2 z \\left(t \\right)+2 \\frac{d}{d t}z \\left(t \\right)+\\frac{d^{2}}{d t^{2}}z \\left(t \\right) = 0$$"
      ]
     },
     "execution_count": 7,
     "metadata": {},
     "output_type": "execute_result"
    }
   ],
   "source": [
    "divDalg([DE1,DE2],[x(t),y(t)],z(t))"
   ]
  },
  {
   "cell_type": "markdown",
   "id": "bcb644c7",
   "metadata": {},
   "source": [
    "#### Compute a differential equation for f^2-3f, where f is a solution of DE1"
   ]
  },
  {
   "cell_type": "code",
   "execution_count": 8,
   "id": "a6917c84",
   "metadata": {},
   "outputs": [
    {
     "data": {
      "text/markdown": [
       "$$64 z \\left(t \\right)^{4}+64 z \\left(t \\right)^{3} \\left(\\frac{d^{2}}{d t^{2}}z \\left(t \\right)\\right)-32 z \\left(t \\right)^{2} \\left(\\frac{d}{d t}z \\left(t \\right)\\right)^{2}+16 z \\left(t \\right)^{2} \\left(\\frac{d^{2}}{d t^{2}}z \\left(t \\right)\\right)^{2}-16 z \\left(t \\right) \\left(\\frac{d}{d t}z \\left(t \\right)\\right)^{2} \\left(\\frac{d^{2}}{d t^{2}}z \\left(t \\right)\\right)+4 \\left(\\frac{d}{d t}z \\left(t \\right)\\right)^{4}+432 z \\left(t \\right)^{3}+432 z \\left(t \\right)^{2} \\left(\\frac{d^{2}}{d t^{2}}z \\left(t \\right)\\right)-144 z \\left(t \\right) \\left(\\frac{d}{d t}z \\left(t \\right)\\right)^{2}+72 z \\left(t \\right) \\left(\\frac{d^{2}}{d t^{2}}z \\left(t \\right)\\right)^{2}-36 \\left(\\frac{d}{d t}z \\left(t \\right)\\right)^{2} \\left(\\frac{d^{2}}{d t^{2}}z \\left(t \\right)\\right)+972 z \\left(t \\right)^{2}+972 z \\left(t \\right) \\left(\\frac{d^{2}}{d t^{2}}z \\left(t \\right)\\right)-162 \\left(\\frac{d}{d t}z \\left(t \\right)\\right)^{2}+81 \\left(\\frac{d^{2}}{d t^{2}}z \\left(t \\right)\\right)^{2}+729 z \\left(t \\right)+729 \\frac{d^{2}}{d t^{2}}z \\left(t \\right) = 0$$"
      ]
     },
     "execution_count": 8,
     "metadata": {},
     "output_type": "execute_result"
    }
   ],
   "source": [
    "unaryDalg(DE1,x(t),z=x^2-3*x)"
   ]
  },
  {
   "cell_type": "markdown",
   "id": "084b2d21",
   "metadata": {},
   "source": [
    "#### Compute a differential equation for 1/g, where g is a solution of DE2"
   ]
  },
  {
   "cell_type": "code",
   "execution_count": 9,
   "id": "f9e82e3a",
   "metadata": {},
   "outputs": [
    {
     "data": {
      "text/markdown": [
       "$$\\frac{d}{d t}z \\left(t \\right)+2 z \\left(t \\right) = 0$$"
      ]
     },
     "execution_count": 9,
     "metadata": {},
     "output_type": "execute_result"
    }
   ],
   "source": [
    "unaryDalg(DE2,y(t),z=1/y^2)"
   ]
  },
  {
   "cell_type": "markdown",
   "id": "e3a278c0",
   "metadata": {},
   "source": [
    "#### We do the same computations as above with DE3 and DE4"
   ]
  },
  {
   "cell_type": "code",
   "execution_count": 2,
   "id": "89833bc6",
   "metadata": {},
   "outputs": [
    {
     "data": {
      "text/markdown": [
       "$$x \\left(t \\right)+\\frac{d^{2}}{d t^{2}}x \\left(t \\right) = 0$$"
      ]
     },
     "execution_count": 2,
     "metadata": {},
     "output_type": "execute_result"
    }
   ],
   "source": [
    "DE3:=x(t)+diff(x(t),t,t)=0"
   ]
  },
  {
   "cell_type": "code",
   "execution_count": 3,
   "id": "0cda954c",
   "metadata": {},
   "outputs": [
    {
     "data": {
      "text/markdown": [
       "$$y \\left(t \\right)^{2}+\\alpha  \\left(\\frac{d^{2}}{d t^{2}}y \\left(t \\right)\\right) = 0$$"
      ]
     },
     "execution_count": 3,
     "metadata": {},
     "output_type": "execute_result"
    }
   ],
   "source": [
    "DE4:=y(t)^2+alpha*diff(y(t),t,t)=0"
   ]
  },
  {
   "cell_type": "code",
   "execution_count": 4,
   "id": "b853a8bd",
   "metadata": {},
   "outputs": [
    {
     "data": {
      "text/plain": [
       "kilobytes used=28634, alloc=14522, time=3.75"
      ]
     },
     "metadata": {},
     "output_type": "display_data"
    },
    {
     "data": {
      "text/markdown": [
       "$$16 \\alpha^{2} z \\left(t \\right) \\left(\\frac{d}{d t}z \\left(t \\right)\\right)^{2}-32 \\alpha  z \\left(t \\right)^{2} \\left(\\frac{d}{d t}z \\left(t \\right)\\right)^{2}+16 \\alpha  \\left(\\frac{d}{d t}z \\left(t \\right)\\right) \\left(\\frac{d^{3}}{d t^{3}}z \\left(t \\right)\\right)^{3}+96 \\alpha  \\left(\\frac{d^{2}}{d t^{2}}z \\left(t \\right)\\right)^{3} \\left(\\frac{d^{4}}{d t^{4}}z \\left(t \\right)\\right)-48 \\alpha  \\left(\\frac{d^{2}}{d t^{2}}z \\left(t \\right)\\right)^{2} \\left(\\frac{d^{3}}{d t^{3}}z \\left(t \\right)\\right)^{2}+16 \\alpha  \\left(\\frac{d^{2}}{d t^{2}}z \\left(t \\right)\\right)^{2} \\left(\\frac{d^{4}}{d t^{4}}z \\left(t \\right)\\right)^{2}+24 \\alpha  \\left(\\frac{d}{d t}z \\left(t \\right)\\right)^{2} \\left(\\frac{d^{3}}{d t^{3}}z \\left(t \\right)\\right)^{2}-80 \\alpha  z \\left(t \\right)^{2} \\left(\\frac{d^{2}}{d t^{2}}z \\left(t \\right)\\right)^{2}-32 \\alpha  z \\left(t \\right)^{2} \\left(\\frac{d^{3}}{d t^{3}}z \\left(t \\right)\\right)^{2}+16 \\alpha  z \\left(t \\right)^{2} \\left(\\frac{d^{4}}{d t^{4}}z \\left(t \\right)\\right)^{2}+32 \\alpha  z \\left(t \\right) \\left(\\frac{d^{2}}{d t^{2}}z \\left(t \\right)\\right)^{3}+16 \\alpha  \\left(\\frac{d}{d t}z \\left(t \\right)\\right)^{3} \\left(\\frac{d^{3}}{d t^{3}}z \\left(t \\right)\\right)-48 \\alpha  \\left(\\frac{d}{d t}z \\left(t \\right)\\right)^{2} \\left(\\frac{d^{2}}{d t^{2}}z \\left(t \\right)\\right)^{2}+64 \\alpha  z \\left(t \\right)^{3} \\left(\\frac{d^{4}}{d t^{4}}z \\left(t \\right)\\right)-8 \\alpha^{2} \\left(\\frac{d^{2}}{d t^{2}}z \\left(t \\right)\\right) \\left(\\frac{d^{4}}{d t^{4}}z \\left(t \\right)\\right)^{2}+4 \\alpha^{2} \\left(\\frac{d^{3}}{d t^{3}}z \\left(t \\right)\\right)^{2} \\left(\\frac{d^{4}}{d t^{4}}z \\left(t \\right)\\right)-128 \\alpha  z \\left(t \\right)^{3} \\left(\\frac{d^{2}}{d t^{2}}z \\left(t \\right)\\right)+20 \\alpha^{2} \\left(\\frac{d^{2}}{d t^{2}}z \\left(t \\right)\\right) \\left(\\frac{d^{3}}{d t^{3}}z \\left(t \\right)\\right)^{2}+12 \\alpha^{3} z \\left(t \\right) \\left(\\frac{d^{4}}{d t^{4}}z \\left(t \\right)\\right)-4 \\alpha^{3} \\left(\\frac{d}{d t}z \\left(t \\right)\\right) \\left(\\frac{d^{3}}{d t^{3}}z \\left(t \\right)\\right)+14 \\alpha^{3} \\left(\\frac{d^{2}}{d t^{2}}z \\left(t \\right)\\right) \\left(\\frac{d^{4}}{d t^{4}}z \\left(t \\right)\\right)-12 \\alpha^{2} z \\left(t \\right)^{2} \\left(\\frac{d^{2}}{d t^{2}}z \\left(t \\right)\\right)-48 \\alpha^{2} z \\left(t \\right)^{2} \\left(\\frac{d^{4}}{d t^{4}}z \\left(t \\right)\\right)-68 \\alpha^{2} z \\left(t \\right) \\left(\\frac{d^{2}}{d t^{2}}z \\left(t \\right)\\right)^{2}+16 \\alpha^{2} z \\left(t \\right) \\left(\\frac{d^{3}}{d t^{3}}z \\left(t \\right)\\right)^{2}-8 \\alpha^{2} z \\left(t \\right) \\left(\\frac{d^{4}}{d t^{4}}z \\left(t \\right)\\right)^{2}+20 \\alpha^{2} \\left(\\frac{d}{d t}z \\left(t \\right)\\right)^{2} \\left(\\frac{d^{2}}{d t^{2}}z \\left(t \\right)\\right)+4 \\alpha^{2} \\left(\\frac{d}{d t}z \\left(t \\right)\\right)^{2} \\left(\\frac{d^{4}}{d t^{4}}z \\left(t \\right)\\right)-64 \\alpha^{2} \\left(\\frac{d^{2}}{d t^{2}}z \\left(t \\right)\\right)^{2} \\left(\\frac{d^{4}}{d t^{4}}z \\left(t \\right)\\right)+10 \\alpha^{3} z \\left(t \\right) \\left(\\frac{d^{2}}{d t^{2}}z \\left(t \\right)\\right)-\\alpha^{3} z \\left(t \\right)^{2}-2 \\alpha^{3} \\left(\\frac{d}{d t}z \\left(t \\right)\\right)^{2}+12 \\alpha^{2} z \\left(t \\right)^{3}-48 \\alpha  z \\left(t \\right)^{4}+4 \\alpha  \\left(\\frac{d}{d t}z \\left(t \\right)\\right)^{4}-\\alpha^{4} \\left(\\frac{d^{2}}{d t^{2}}z \\left(t \\right)\\right)-\\alpha^{4} \\left(\\frac{d^{4}}{d t^{4}}z \\left(t \\right)\\right)+12 \\alpha^{3} \\left(\\frac{d^{2}}{d t^{2}}z \\left(t \\right)\\right)^{2}-2 \\alpha^{3} \\left(\\frac{d^{3}}{d t^{3}}z \\left(t \\right)\\right)^{2}+\\alpha^{3} \\left(\\frac{d^{4}}{d t^{4}}z \\left(t \\right)\\right)^{2}-44 \\alpha^{2} \\left(\\frac{d^{2}}{d t^{2}}z \\left(t \\right)\\right)^{3}+32 \\alpha  \\left(\\frac{d^{2}}{d t^{2}}z \\left(t \\right)\\right)^{4}+4 \\alpha  \\left(\\frac{d^{3}}{d t^{3}}z \\left(t \\right)\\right)^{4}+320 z \\left(t \\right)^{4} \\left(\\frac{d^{2}}{d t^{2}}z \\left(t \\right)\\right)+640 z \\left(t \\right)^{3} \\left(\\frac{d^{2}}{d t^{2}}z \\left(t \\right)\\right)^{2}+640 z \\left(t \\right)^{2} \\left(\\frac{d^{2}}{d t^{2}}z \\left(t \\right)\\right)^{3}+320 z \\left(t \\right) \\left(\\frac{d^{2}}{d t^{2}}z \\left(t \\right)\\right)^{4}+32 \\alpha^{2} z \\left(t \\right) \\left(\\frac{d}{d t}z \\left(t \\right)\\right) \\left(\\frac{d^{3}}{d t^{3}}z \\left(t \\right)\\right)-112 \\alpha^{2} z \\left(t \\right) \\left(\\frac{d^{2}}{d t^{2}}z \\left(t \\right)\\right) \\left(\\frac{d^{4}}{d t^{4}}z \\left(t \\right)\\right)+40 \\alpha^{2} \\left(\\frac{d}{d t}z \\left(t \\right)\\right) \\left(\\frac{d^{2}}{d t^{2}}z \\left(t \\right)\\right) \\left(\\frac{d^{3}}{d t^{3}}z \\left(t \\right)\\right)+8 \\alpha^{2} \\left(\\frac{d}{d t}z \\left(t \\right)\\right) \\left(\\frac{d^{3}}{d t^{3}}z \\left(t \\right)\\right) \\left(\\frac{d^{4}}{d t^{4}}z \\left(t \\right)\\right)-64 \\alpha  z \\left(t \\right)^{2} \\left(\\frac{d}{d t}z \\left(t \\right)\\right) \\left(\\frac{d^{3}}{d t^{3}}z \\left(t \\right)\\right)+224 \\alpha  z \\left(t \\right)^{2} \\left(\\frac{d^{2}}{d t^{2}}z \\left(t \\right)\\right) \\left(\\frac{d^{4}}{d t^{4}}z \\left(t \\right)\\right)-80 \\alpha  z \\left(t \\right) \\left(\\frac{d}{d t}z \\left(t \\right)\\right)^{2} \\left(\\frac{d^{2}}{d t^{2}}z \\left(t \\right)\\right)-16 \\alpha  z \\left(t \\right) \\left(\\frac{d}{d t}z \\left(t \\right)\\right)^{2} \\left(\\frac{d^{4}}{d t^{4}}z \\left(t \\right)\\right)+256 \\alpha  z \\left(t \\right) \\left(\\frac{d^{2}}{d t^{2}}z \\left(t \\right)\\right)^{2} \\left(\\frac{d^{4}}{d t^{4}}z \\left(t \\right)\\right)-80 \\alpha  z \\left(t \\right) \\left(\\frac{d^{2}}{d t^{2}}z \\left(t \\right)\\right) \\left(\\frac{d^{3}}{d t^{3}}z \\left(t \\right)\\right)^{2}+32 \\alpha  z \\left(t \\right) \\left(\\frac{d^{2}}{d t^{2}}z \\left(t \\right)\\right) \\left(\\frac{d^{4}}{d t^{4}}z \\left(t \\right)\\right)^{2}-16 \\alpha  z \\left(t \\right) \\left(\\frac{d^{3}}{d t^{3}}z \\left(t \\right)\\right)^{2} \\left(\\frac{d^{4}}{d t^{4}}z \\left(t \\right)\\right)-16 \\alpha  \\left(\\frac{d}{d t}z \\left(t \\right)\\right)^{2} \\left(\\frac{d^{2}}{d t^{2}}z \\left(t \\right)\\right) \\left(\\frac{d^{4}}{d t^{4}}z \\left(t \\right)\\right)-96 \\alpha  \\left(\\frac{d}{d t}z \\left(t \\right)\\right) \\left(\\frac{d^{2}}{d t^{2}}z \\left(t \\right)\\right)^{2} \\left(\\frac{d^{3}}{d t^{3}}z \\left(t \\right)\\right)-16 \\alpha  \\left(\\frac{d^{2}}{d t^{2}}z \\left(t \\right)\\right) \\left(\\frac{d^{3}}{d t^{3}}z \\left(t \\right)\\right)^{2} \\left(\\frac{d^{4}}{d t^{4}}z \\left(t \\right)\\right)-160 \\alpha  z \\left(t \\right) \\left(\\frac{d}{d t}z \\left(t \\right)\\right) \\left(\\frac{d^{2}}{d t^{2}}z \\left(t \\right)\\right) \\left(\\frac{d^{3}}{d t^{3}}z \\left(t \\right)\\right)-32 \\alpha  z \\left(t \\right) \\left(\\frac{d}{d t}z \\left(t \\right)\\right) \\left(\\frac{d^{3}}{d t^{3}}z \\left(t \\right)\\right) \\left(\\frac{d^{4}}{d t^{4}}z \\left(t \\right)\\right)-32 \\alpha  \\left(\\frac{d}{d t}z \\left(t \\right)\\right) \\left(\\frac{d^{2}}{d t^{2}}z \\left(t \\right)\\right) \\left(\\frac{d^{3}}{d t^{3}}z \\left(t \\right)\\right) \\left(\\frac{d^{4}}{d t^{4}}z \\left(t \\right)\\right)+64 \\left(\\frac{d^{2}}{d t^{2}}z \\left(t \\right)\\right)^{5}+64 z \\left(t \\right)^{5} = 0$$"
      ]
     },
     "execution_count": 4,
     "metadata": {},
     "output_type": "execute_result"
    }
   ],
   "source": [
    "addDalg([DE3,DE4],[x(t),y(t)],z(t))"
   ]
  },
  {
   "cell_type": "code",
   "execution_count": 5,
   "id": "6461ef8e",
   "metadata": {},
   "outputs": [
    {
     "data": {
      "text/plain": [
       "kilobytes used=335852, alloc=24762, time=38.27"
      ]
     },
     "metadata": {},
     "output_type": "display_data"
    },
    {
     "data": {
      "text/markdown": [
       "$$162 z \\left(t \\right)^{6} \\left(\\frac{d^{2}}{d t^{2}}z \\left(t \\right)\\right)+27 z \\left(t \\right)^{6} \\left(\\frac{d^{4}}{d t^{4}}z \\left(t \\right)\\right)+270 z \\left(t \\right)^{5} \\left(\\frac{d^{2}}{d t^{2}}z \\left(t \\right)\\right)^{2}+18 z \\left(t \\right)^{5} \\left(\\frac{d^{3}}{d t^{3}}z \\left(t \\right)\\right)^{2}+9 z \\left(t \\right)^{5} \\left(\\frac{d^{4}}{d t^{4}}z \\left(t \\right)\\right)^{2}+32 z \\left(t \\right)^{4} \\left(\\frac{d^{2}}{d t^{2}}z \\left(t \\right)\\right)^{3}+z \\left(t \\right)^{4} \\left(\\frac{d^{4}}{d t^{4}}z \\left(t \\right)\\right)^{3}-128 z \\left(t \\right)^{3} \\left(\\frac{d^{2}}{d t^{2}}z \\left(t \\right)\\right)^{4}+4 z \\left(t \\right)^{3} \\left(\\frac{d^{3}}{d t^{3}}z \\left(t \\right)\\right)^{4}-144 \\left(\\frac{d}{d t}z \\left(t \\right)\\right)^{6} \\left(\\frac{d^{2}}{d t^{2}}z \\left(t \\right)\\right)-216 \\left(\\frac{d}{d t}z \\left(t \\right)\\right)^{6} \\left(\\frac{d^{4}}{d t^{4}}z \\left(t \\right)\\right)-24 z \\left(t \\right)^{3} \\left(\\frac{d}{d t}z \\left(t \\right)\\right) \\left(\\frac{d^{2}}{d t^{2}}z \\left(t \\right)\\right) \\left(\\frac{d^{3}}{d t^{3}}z \\left(t \\right)\\right) \\left(\\frac{d^{4}}{d t^{4}}z \\left(t \\right)\\right)+52 z \\left(t \\right)^{2} \\left(\\frac{d}{d t}z \\left(t \\right)\\right) \\left(\\frac{d^{2}}{d t^{2}}z \\left(t \\right)\\right)^{2} \\left(\\frac{d^{3}}{d t^{3}}z \\left(t \\right)\\right) \\left(\\frac{d^{4}}{d t^{4}}z \\left(t \\right)\\right)-132 z \\left(t \\right) \\left(\\frac{d}{d t}z \\left(t \\right)\\right)^{3} \\left(\\frac{d^{2}}{d t^{2}}z \\left(t \\right)\\right) \\left(\\frac{d^{3}}{d t^{3}}z \\left(t \\right)\\right) \\left(\\frac{d^{4}}{d t^{4}}z \\left(t \\right)\\right)+54 z \\left(t \\right)^{5} \\left(\\frac{d}{d t}z \\left(t \\right)\\right) \\left(\\frac{d^{3}}{d t^{3}}z \\left(t \\right)\\right)+108 z \\left(t \\right)^{5} \\left(\\frac{d^{2}}{d t^{2}}z \\left(t \\right)\\right) \\left(\\frac{d^{4}}{d t^{4}}z \\left(t \\right)\\right)-840 z \\left(t \\right)^{4} \\left(\\frac{d}{d t}z \\left(t \\right)\\right)^{2} \\left(\\frac{d^{2}}{d t^{2}}z \\left(t \\right)\\right)-234 z \\left(t \\right)^{4} \\left(\\frac{d}{d t}z \\left(t \\right)\\right)^{2} \\left(\\frac{d^{4}}{d t^{4}}z \\left(t \\right)\\right)+84 z \\left(t \\right)^{4} \\left(\\frac{d^{2}}{d t^{2}}z \\left(t \\right)\\right)^{2} \\left(\\frac{d^{4}}{d t^{4}}z \\left(t \\right)\\right)+54 z \\left(t \\right)^{4} \\left(\\frac{d^{2}}{d t^{2}}z \\left(t \\right)\\right) \\left(\\frac{d^{3}}{d t^{3}}z \\left(t \\right)\\right)^{2}+18 z \\left(t \\right)^{4} \\left(\\frac{d^{2}}{d t^{2}}z \\left(t \\right)\\right) \\left(\\frac{d^{4}}{d t^{4}}z \\left(t \\right)\\right)^{2}+6 z \\left(t \\right)^{4} \\left(\\frac{d^{3}}{d t^{3}}z \\left(t \\right)\\right)^{2} \\left(\\frac{d^{4}}{d t^{4}}z \\left(t \\right)\\right)+236 z \\left(t \\right)^{3} \\left(\\frac{d}{d t}z \\left(t \\right)\\right)^{3} \\left(\\frac{d^{3}}{d t^{3}}z \\left(t \\right)\\right)-588 z \\left(t \\right)^{3} \\left(\\frac{d}{d t}z \\left(t \\right)\\right)^{2} \\left(\\frac{d^{2}}{d t^{2}}z \\left(t \\right)\\right)^{2}+144 z \\left(t \\right)^{3} \\left(\\frac{d}{d t}z \\left(t \\right)\\right)^{2} \\left(\\frac{d^{3}}{d t^{3}}z \\left(t \\right)\\right)^{2}-64 z \\left(t \\right)^{3} \\left(\\frac{d}{d t}z \\left(t \\right)\\right)^{2} \\left(\\frac{d^{4}}{d t^{4}}z \\left(t \\right)\\right)^{2}+40 z \\left(t \\right)^{3} \\left(\\frac{d}{d t}z \\left(t \\right)\\right) \\left(\\frac{d^{3}}{d t^{3}}z \\left(t \\right)\\right)^{3}-32 z \\left(t \\right)^{3} \\left(\\frac{d^{2}}{d t^{2}}z \\left(t \\right)\\right)^{3} \\left(\\frac{d^{4}}{d t^{4}}z \\left(t \\right)\\right)+40 z \\left(t \\right)^{3} \\left(\\frac{d^{2}}{d t^{2}}z \\left(t \\right)\\right)^{2} \\left(\\frac{d^{3}}{d t^{3}}z \\left(t \\right)\\right)^{2}-2 z \\left(t \\right)^{3} \\left(\\frac{d^{2}}{d t^{2}}z \\left(t \\right)\\right)^{2} \\left(\\frac{d^{4}}{d t^{4}}z \\left(t \\right)\\right)^{2}+564 z \\left(t \\right)^{2} \\left(\\frac{d}{d t}z \\left(t \\right)\\right)^{4} \\left(\\frac{d^{2}}{d t^{2}}z \\left(t \\right)\\right)+496 z \\left(t \\right)^{2} \\left(\\frac{d}{d t}z \\left(t \\right)\\right)^{4} \\left(\\frac{d^{4}}{d t^{4}}z \\left(t \\right)\\right)+252 z \\left(t \\right)^{2} \\left(\\frac{d}{d t}z \\left(t \\right)\\right)^{2} \\left(\\frac{d^{2}}{d t^{2}}z \\left(t \\right)\\right)^{3}-36 z \\left(t \\right)^{2} \\left(\\frac{d^{2}}{d t^{2}}z \\left(t \\right)\\right)^{3} \\left(\\frac{d^{3}}{d t^{3}}z \\left(t \\right)\\right)^{2}-184 z \\left(t \\right) \\left(\\frac{d}{d t}z \\left(t \\right)\\right)^{5} \\left(\\frac{d^{3}}{d t^{3}}z \\left(t \\right)\\right)+444 z \\left(t \\right) \\left(\\frac{d}{d t}z \\left(t \\right)\\right)^{4} \\left(\\frac{d^{2}}{d t^{2}}z \\left(t \\right)\\right)^{2}-80 z \\left(t \\right) \\left(\\frac{d}{d t}z \\left(t \\right)\\right)^{4} \\left(\\frac{d^{3}}{d t^{3}}z \\left(t \\right)\\right)^{2}+72 z \\left(t \\right) \\left(\\frac{d}{d t}z \\left(t \\right)\\right)^{4} \\left(\\frac{d^{4}}{d t^{4}}z \\left(t \\right)\\right)^{2}-16 z \\left(t \\right) \\left(\\frac{d}{d t}z \\left(t \\right)\\right)^{3} \\left(\\frac{d^{3}}{d t^{3}}z \\left(t \\right)\\right)^{3}+240 \\left(\\frac{d}{d t}z \\left(t \\right)\\right)^{5} \\left(\\frac{d^{2}}{d t^{2}}z \\left(t \\right)\\right) \\left(\\frac{d^{3}}{d t^{3}}z \\left(t \\right)\\right)-72 \\left(\\frac{d}{d t}z \\left(t \\right)\\right)^{5} \\left(\\frac{d^{3}}{d t^{3}}z \\left(t \\right)\\right) \\left(\\frac{d^{4}}{d t^{4}}z \\left(t \\right)\\right)+96 \\left(\\frac{d}{d t}z \\left(t \\right)\\right)^{4} \\left(\\frac{d^{2}}{d t^{2}}z \\left(t \\right)\\right) \\left(\\frac{d^{3}}{d t^{3}}z \\left(t \\right)\\right)^{2}+27 z \\left(t \\right)^{7}-126 z \\left(t \\right)^{5} \\left(\\frac{d}{d t}z \\left(t \\right)\\right)^{2}+440 z \\left(t \\right)^{3} \\left(\\frac{d}{d t}z \\left(t \\right)\\right)^{4}-264 z \\left(t \\right) \\left(\\frac{d}{d t}z \\left(t \\right)\\right)^{6}-434 z \\left(t \\right)^{3} \\left(\\frac{d}{d t}z \\left(t \\right)\\right)^{2} \\left(\\frac{d^{2}}{d t^{2}}z \\left(t \\right)\\right) \\left(\\frac{d^{4}}{d t^{4}}z \\left(t \\right)\\right)+44 z \\left(t \\right)^{3} \\left(\\frac{d}{d t}z \\left(t \\right)\\right) \\left(\\frac{d^{2}}{d t^{2}}z \\left(t \\right)\\right)^{2} \\left(\\frac{d^{3}}{d t^{3}}z \\left(t \\right)\\right)-14 z \\left(t \\right)^{3} \\left(\\frac{d}{d t}z \\left(t \\right)\\right) \\left(\\frac{d^{3}}{d t^{3}}z \\left(t \\right)\\right) \\left(\\frac{d^{4}}{d t^{4}}z \\left(t \\right)\\right)^{2}+14 z \\left(t \\right)^{3} \\left(\\frac{d^{2}}{d t^{2}}z \\left(t \\right)\\right) \\left(\\frac{d^{3}}{d t^{3}}z \\left(t \\right)\\right)^{2} \\left(\\frac{d^{4}}{d t^{4}}z \\left(t \\right)\\right)-604 z \\left(t \\right)^{2} \\left(\\frac{d}{d t}z \\left(t \\right)\\right)^{3} \\left(\\frac{d^{2}}{d t^{2}}z \\left(t \\right)\\right) \\left(\\frac{d^{3}}{d t^{3}}z \\left(t \\right)\\right)+132 z \\left(t \\right)^{2} \\left(\\frac{d}{d t}z \\left(t \\right)\\right)^{3} \\left(\\frac{d^{3}}{d t^{3}}z \\left(t \\right)\\right) \\left(\\frac{d^{4}}{d t^{4}}z \\left(t \\right)\\right)+68 z \\left(t \\right)^{2} \\left(\\frac{d}{d t}z \\left(t \\right)\\right)^{2} \\left(\\frac{d^{2}}{d t^{2}}z \\left(t \\right)\\right)^{2} \\left(\\frac{d^{4}}{d t^{4}}z \\left(t \\right)\\right)-240 z \\left(t \\right)^{2} \\left(\\frac{d}{d t}z \\left(t \\right)\\right)^{2} \\left(\\frac{d^{2}}{d t^{2}}z \\left(t \\right)\\right) \\left(\\frac{d^{3}}{d t^{3}}z \\left(t \\right)\\right)^{2}-18 z \\left(t \\right)^{2} \\left(\\frac{d}{d t}z \\left(t \\right)\\right)^{2} \\left(\\frac{d^{2}}{d t^{2}}z \\left(t \\right)\\right) \\left(\\frac{d^{4}}{d t^{4}}z \\left(t \\right)\\right)^{2}+20 z \\left(t \\right)^{2} \\left(\\frac{d}{d t}z \\left(t \\right)\\right)^{2} \\left(\\frac{d^{3}}{d t^{3}}z \\left(t \\right)\\right)^{2} \\left(\\frac{d^{4}}{d t^{4}}z \\left(t \\right)\\right)-40 z \\left(t \\right)^{2} \\left(\\frac{d}{d t}z \\left(t \\right)\\right) \\left(\\frac{d^{2}}{d t^{2}}z \\left(t \\right)\\right)^{3} \\left(\\frac{d^{3}}{d t^{3}}z \\left(t \\right)\\right)-32 z \\left(t \\right)^{2} \\left(\\frac{d}{d t}z \\left(t \\right)\\right) \\left(\\frac{d^{2}}{d t^{2}}z \\left(t \\right)\\right) \\left(\\frac{d^{3}}{d t^{3}}z \\left(t \\right)\\right)^{3}+156 z \\left(t \\right) \\left(\\frac{d}{d t}z \\left(t \\right)\\right)^{4} \\left(\\frac{d^{2}}{d t^{2}}z \\left(t \\right)\\right) \\left(\\frac{d^{4}}{d t^{4}}z \\left(t \\right)\\right)+40 z \\left(t \\right) \\left(\\frac{d}{d t}z \\left(t \\right)\\right)^{3} \\left(\\frac{d^{2}}{d t^{2}}z \\left(t \\right)\\right)^{2} \\left(\\frac{d^{3}}{d t^{3}}z \\left(t \\right)\\right)+76 z \\left(t \\right) \\left(\\frac{d}{d t}z \\left(t \\right)\\right)^{2} \\left(\\frac{d^{2}}{d t^{2}}z \\left(t \\right)\\right)^{2} \\left(\\frac{d^{3}}{d t^{3}}z \\left(t \\right)\\right)^{2}+48 z \\left(t \\right)^{4} \\left(\\frac{d}{d t}z \\left(t \\right)\\right) \\left(\\frac{d^{2}}{d t^{2}}z \\left(t \\right)\\right) \\left(\\frac{d^{3}}{d t^{3}}z \\left(t \\right)\\right)-24 z \\left(t \\right)^{4} \\left(\\frac{d}{d t}z \\left(t \\right)\\right) \\left(\\frac{d^{3}}{d t^{3}}z \\left(t \\right)\\right) \\left(\\frac{d^{4}}{d t^{4}}z \\left(t \\right)\\right) = 0$$"
      ]
     },
     "execution_count": 5,
     "metadata": {},
     "output_type": "execute_result"
    }
   ],
   "source": [
    "mulDalg([DE3,DE4],[x(t),y(t)],z(t))"
   ]
  },
  {
   "cell_type": "code",
   "execution_count": 6,
   "id": "9cb2634c",
   "metadata": {},
   "outputs": [
    {
     "data": {
      "text/markdown": [
       "$$64 z \\left(t \\right)^{5}-64 z \\left(t \\right)^{4} \\left(\\frac{d^{2}}{d t^{2}}z \\left(t \\right)\\right)+96 z \\left(t \\right)^{3} \\left(\\frac{d}{d t}z \\left(t \\right)\\right)^{2}+16 z \\left(t \\right)^{3} \\left(\\frac{d^{2}}{d t^{2}}z \\left(t \\right)\\right)^{2}-48 \\left(\\frac{d}{d t}z \\left(t \\right)\\right)^{2} z \\left(t \\right)^{2} \\left(\\frac{d^{2}}{d t^{2}}z \\left(t \\right)\\right)+36 z \\left(t \\right) \\left(\\frac{d}{d t}z \\left(t \\right)\\right)^{4}+48 z \\left(t \\right)^{4}-48 z \\left(t \\right)^{3} \\left(\\frac{d^{2}}{d t^{2}}z \\left(t \\right)\\right)+80 z \\left(t \\right)^{2} \\left(\\frac{d}{d t}z \\left(t \\right)\\right)^{2}+8 z \\left(t \\right)^{2} \\left(\\frac{d^{2}}{d t^{2}}z \\left(t \\right)\\right)^{2}-20 z \\left(t \\right) \\left(\\frac{d}{d t}z \\left(t \\right)\\right)^{2} \\left(\\frac{d^{2}}{d t^{2}}z \\left(t \\right)\\right)+8 \\left(\\frac{d}{d t}z \\left(t \\right)\\right)^{4}+12 z \\left(t \\right)^{3}-12 z \\left(t \\right)^{2} \\left(\\frac{d^{2}}{d t^{2}}z \\left(t \\right)\\right)+22 z \\left(t \\right) \\left(\\frac{d}{d t}z \\left(t \\right)\\right)^{2}+z \\left(t \\right) \\left(\\frac{d^{2}}{d t^{2}}z \\left(t \\right)\\right)^{2}-2 \\left(\\frac{d}{d t}z \\left(t \\right)\\right)^{2} \\left(\\frac{d^{2}}{d t^{2}}z \\left(t \\right)\\right)+z \\left(t \\right)^{2}-\\left(\\frac{d^{2}}{d t^{2}}z \\left(t \\right)\\right) z \\left(t \\right)+2 \\left(\\frac{d}{d t}z \\left(t \\right)\\right)^{2} = 0$$"
      ]
     },
     "execution_count": 6,
     "metadata": {},
     "output_type": "execute_result"
    }
   ],
   "source": [
    "unaryDalg(DE3,x(t),z=(x+1)/x^2)"
   ]
  },
  {
   "cell_type": "code",
   "execution_count": 8,
   "id": "5839b1c2",
   "metadata": {},
   "outputs": [
    {
     "data": {
      "text/markdown": [
       "$$-\\alpha  z \\left(t \\right) \\left(\\frac{d^{2}}{d t^{2}}z \\left(t \\right)\\right)+2 \\alpha  \\left(\\frac{d}{d t}z \\left(t \\right)\\right)^{2}+z \\left(t \\right)^{3}-2 z \\left(t \\right)^{2}+z \\left(t \\right) = 0$$"
      ]
     },
     "execution_count": 8,
     "metadata": {},
     "output_type": "execute_result"
    }
   ],
   "source": [
    "unaryDalg(DE4,y(t),z=1/(y+1))"
   ]
  },
  {
   "cell_type": "markdown",
   "id": "79b61f89",
   "metadata": {},
   "source": [
    "#### Let us compute and verify the result \n",
    "\n",
    "We just need to compute (when possible) the solutions of the differential equations and verify that the function define by an operation with these solutions is a solution of the differential equation obtained with that operation from the original differential equations."
   ]
  },
  {
   "cell_type": "code",
   "execution_count": 9,
   "id": "eb1fd606",
   "metadata": {},
   "outputs": [
    {
     "data": {
      "text/markdown": [
       "$$\\left(1+t \\right) \\left(\\frac{d}{d t}x \\left(t \\right)\\right) = 1$$"
      ]
     },
     "execution_count": 9,
     "metadata": {},
     "output_type": "execute_result"
    }
   ],
   "source": [
    "DE5:=(1 + t)*diff(x(t), t)=1 "
   ]
  },
  {
   "cell_type": "markdown",
   "id": "696d8645",
   "metadata": {},
   "source": [
    "We solve DE5 using Maple's dsolve command."
   ]
  },
  {
   "cell_type": "code",
   "execution_count": 10,
   "id": "f82dd325",
   "metadata": {},
   "outputs": [
    {
     "data": {
      "text/markdown": [
       "$$x \\left(t \\right) = \\ln \\left(1+t \\right)+\\textit{\\_C1}$$"
      ]
     },
     "execution_count": 10,
     "metadata": {},
     "output_type": "execute_result"
    }
   ],
   "source": [
    "dsolve(DE5,x(t))"
   ]
  },
  {
   "cell_type": "code",
   "execution_count": 11,
   "id": "ab4a5728",
   "metadata": {},
   "outputs": [
    {
     "data": {
      "text/markdown": [
       "$$-y \\left(t \\right)^{2}-2 \\left(\\frac{d}{d t}y \\left(t \\right)\\right)^{2}+\\left(\\frac{d^{2}}{d t^{2}}y \\left(t \\right)\\right) y \\left(t \\right) = 0$$"
      ]
     },
     "execution_count": 11,
     "metadata": {},
     "output_type": "execute_result"
    }
   ],
   "source": [
    "DE6:=-y(t)^2 - 2*diff(y(t), t)^2 + diff(y(t), t, t)*y(t) = 0"
   ]
  },
  {
   "cell_type": "code",
   "execution_count": 12,
   "id": "8cad9428",
   "metadata": {},
   "outputs": [
    {
     "data": {
      "text/markdown": [
       "$$y \\left(t \\right) = \\frac{1}{\\textit{\\_C1} \\sin \\left(t \\right)-\\textit{\\_C2} \\cos \\left(t \\right)}$$"
      ]
     },
     "execution_count": 12,
     "metadata": {},
     "output_type": "execute_result"
    }
   ],
   "source": [
    "dsolve(DE6,y(t))"
   ]
  },
  {
   "cell_type": "markdown",
   "id": "f8c68f7e",
   "metadata": {},
   "source": [
    "We will verify our result with *1/sin(t)* from DE5 and *log(1+t)* from DE6"
   ]
  },
  {
   "cell_type": "code",
   "execution_count": 13,
   "id": "b782e3b4",
   "metadata": {},
   "outputs": [
    {
     "data": {
      "text/plain": [
       "kilobytes used=355740, alloc=23738, time=41.16"
      ]
     },
     "metadata": {},
     "output_type": "display_data"
    },
    {
     "data": {
      "text/markdown": [
       "$$\\left(\\frac{d}{d t}z \\left(t \\right)\\right)^{7}+3 \\left(\\frac{d}{d t}z \\left(t \\right)\\right)^{5} \\left(\\frac{d^{2}}{d t^{2}}z \\left(t \\right)\\right)-7 \\left(\\frac{d}{d t}z \\left(t \\right)\\right)^{5}-\\left(\\frac{d}{d t}z \\left(t \\right)\\right)^{4} \\left(\\frac{d^{3}}{d t^{3}}z \\left(t \\right)\\right)+3 \\left(\\frac{d}{d t}z \\left(t \\right)\\right)^{3} \\left(\\frac{d^{2}}{d t^{2}}z \\left(t \\right)\\right)^{2}-6 \\left(\\frac{d}{d t}z \\left(t \\right)\\right)^{3} \\left(\\frac{d^{2}}{d t^{2}}z \\left(t \\right)\\right)-6 \\left(\\frac{d}{d t}z \\left(t \\right)\\right)^{2} \\left(\\frac{d^{2}}{d t^{2}}z \\left(t \\right)\\right) \\left(\\frac{d^{3}}{d t^{3}}z \\left(t \\right)\\right)+9 \\left(\\frac{d}{d t}z \\left(t \\right)\\right) \\left(\\frac{d^{2}}{d t^{2}}z \\left(t \\right)\\right)^{3}-8 \\left(\\frac{d}{d t}z \\left(t \\right)\\right)^{3}+8 \\left(\\frac{d}{d t}z \\left(t \\right)\\right)^{2} \\left(\\frac{d^{3}}{d t^{3}}z \\left(t \\right)\\right)-15 \\left(\\frac{d}{d t}z \\left(t \\right)\\right) \\left(\\frac{d^{2}}{d t^{2}}z \\left(t \\right)\\right)^{2}-2 \\left(\\frac{d}{d t}z \\left(t \\right)\\right) \\left(\\frac{d^{3}}{d t^{3}}z \\left(t \\right)\\right)^{2}+3 \\left(\\frac{d^{2}}{d t^{2}}z \\left(t \\right)\\right)^{2} \\left(\\frac{d^{3}}{d t^{3}}z \\left(t \\right)\\right) = 0$$"
      ]
     },
     "execution_count": 13,
     "metadata": {},
     "output_type": "execute_result"
    }
   ],
   "source": [
    "DE7:=compDalg([DE5,DE6],[x(t),y(t)],z(t))"
   ]
  },
  {
   "cell_type": "markdown",
   "id": "76c43b63",
   "metadata": {},
   "source": [
    "We now evaluate DE7 at *z(t)=log(1+1/sin(t))* and simplify"
   ]
  },
  {
   "cell_type": "code",
   "execution_count": 14,
   "id": "40800a31",
   "metadata": {},
   "outputs": [
    {
     "data": {
      "text/markdown": [
       "$$0 = 0$$"
      ]
     },
     "execution_count": 14,
     "metadata": {},
     "output_type": "execute_result"
    }
   ],
   "source": [
    "simplify(eval(DE7,z(t)=log(1+1/sin(t))))"
   ]
  },
  {
   "cell_type": "code",
   "execution_count": 15,
   "id": "e87514ad",
   "metadata": {},
   "outputs": [
    {
     "data": {
      "text/plain": [
       "kilobytes used=462506, alloc=27120, time=52.02"
      ]
     },
     "metadata": {},
     "output_type": "display_data"
    },
    {
     "data": {
      "text/markdown": [
       "$$\\left(-8 t^{7}-56 t^{6}-168 t^{5}-280 t^{4}-280 t^{3}-168 t^{2}-56 t -8\\right) \\left(\\frac{d}{d t}z \\left(t \\right)\\right)^{3}+\\left(8 t^{7}+56 t^{6}+168 t^{5}+280 t^{4}+280 t^{3}+168 t^{2}+56 t +8\\right) \\left(\\frac{d}{d t}z \\left(t \\right)\\right)^{2} \\left(\\frac{d^{3}}{d t^{3}}z \\left(t \\right)\\right)+\\left(24 t^{6}+144 t^{5}+344 t^{4}+416 t^{3}+264 t^{2}+80 t +8\\right) \\left(\\frac{d}{d t}z \\left(t \\right)\\right)^{2}+\\left(-15 t^{7}-105 t^{6}-315 t^{5}-525 t^{4}-525 t^{3}-315 t^{2}-105 t -15\\right) \\left(\\frac{d}{d t}z \\left(t \\right)\\right) \\left(\\frac{d^{2}}{d t^{2}}z \\left(t \\right)\\right)^{2}+\\left(-30 t^{5}-150 t^{4}-300 t^{3}-300 t^{2}-150 t -30\\right) \\left(\\frac{d}{d t}z \\left(t \\right)\\right) \\left(\\frac{d^{2}}{d t^{2}}z \\left(t \\right)\\right)+\\left(-2 t^{7}-14 t^{6}-42 t^{5}-70 t^{4}-70 t^{3}-42 t^{2}-14 t -2\\right) \\left(\\frac{d}{d t}z \\left(t \\right)\\right) \\left(\\frac{d^{3}}{d t^{3}}z \\left(t \\right)\\right)^{2}+\\left(-16 t^{6}-96 t^{5}-232 t^{4}-288 t^{3}-192 t^{2}-64 t -8\\right) \\left(\\frac{d}{d t}z \\left(t \\right)\\right) \\left(\\frac{d^{3}}{d t^{3}}z \\left(t \\right)\\right)+\\left(-24 t^{5}-120 t^{4}-223 t^{3}-189 t^{2}-77 t -15\\right) \\left(\\frac{d}{d t}z \\left(t \\right)\\right)+\\left(3 t^{7}+21 t^{6}+63 t^{5}+105 t^{4}+105 t^{3}+63 t^{2}+21 t +3\\right) \\left(\\frac{d^{3}}{d t^{3}}z \\left(t \\right)\\right) \\left(\\frac{d^{2}}{d t^{2}}z \\left(t \\right)\\right)^{2}+\\left(15 t^{6}+90 t^{5}+219 t^{4}+276 t^{3}+189 t^{2}+66 t +9\\right) \\left(\\frac{d^{2}}{d t^{2}}z \\left(t \\right)\\right)^{2}+\\left(6 t^{5}+30 t^{4}+60 t^{3}+60 t^{2}+30 t +6\\right) \\left(\\frac{d^{2}}{d t^{2}}z \\left(t \\right)\\right) \\left(\\frac{d^{3}}{d t^{3}}z \\left(t \\right)\\right)+\\left(30 t^{4}+120 t^{3}+168 t^{2}+96 t +18\\right) \\left(\\frac{d^{2}}{d t^{2}}z \\left(t \\right)\\right)+\\left(2 t^{6}+12 t^{5}+30 t^{4}+40 t^{3}+30 t^{2}+12 t +2\\right) \\left(\\frac{d^{3}}{d t^{3}}z \\left(t \\right)\\right)^{2}+\\left(8 t^{5}+40 t^{4}+75 t^{3}+65 t^{2}+25 t +3\\right) \\left(\\frac{d^{3}}{d t^{3}}z \\left(t \\right)\\right)+8 t^{4}+32 t^{3}+47 t^{2}+30 t +9 = 0$$"
      ]
     },
     "execution_count": 15,
     "metadata": {},
     "output_type": "execute_result"
    }
   ],
   "source": [
    "DE8:=addDalg([DE5,DE6],[x(t),y(t)],z(t))"
   ]
  },
  {
   "cell_type": "code",
   "execution_count": 16,
   "id": "77eaa800",
   "metadata": {},
   "outputs": [
    {
     "data": {
      "text/markdown": [
       "$$0 = 0$$"
      ]
     },
     "execution_count": 16,
     "metadata": {},
     "output_type": "execute_result"
    }
   ],
   "source": [
    "simplify(eval(DE8,z(t)=1/sin(t)+log(1+t)))"
   ]
  },
  {
   "cell_type": "code",
   "execution_count": 17,
   "id": "bd16b4bc",
   "metadata": {},
   "outputs": [
    {
     "data": {
      "text/plain": [
       "kilobytes used=5761625, alloc=221680, time=684.86"
      ]
     },
     "metadata": {},
     "output_type": "display_data"
    },
    {
     "data": {
      "text/markdown": [
       "$$z \\left(t \\right)^{2} \\left(-t^{2}-2 t -3\\right)+\\left(-2 t -2\\right) z \\left(t \\right) \\left(\\frac{d}{d t}z \\left(t \\right)\\right)+\\left(4 t^{2}+8 t +6\\right) z \\left(t \\right) \\left(\\frac{d^{2}}{d t^{2}}z \\left(t \\right)\\right)+\\left(1+t \\right) \\left(\\frac{d^{3}}{d t^{3}}z \\left(t \\right)\\right) z \\left(t \\right)+\\left(-6 t^{2}-12 t -10\\right) \\left(\\frac{d}{d t}z \\left(t \\right)\\right)^{2}+\\left(-3 t -3\\right) \\left(\\frac{d}{d t}z \\left(t \\right)\\right) \\left(\\frac{d^{2}}{d t^{2}}z \\left(t \\right)\\right)+\\left(2 t^{2}+4 t +2\\right) \\left(\\frac{d}{d t}z \\left(t \\right)\\right) \\left(\\frac{d^{3}}{d t^{3}}z \\left(t \\right)\\right)+\\left(-3 t^{2}-6 t -3\\right) \\left(\\frac{d^{2}}{d t^{2}}z \\left(t \\right)\\right)^{2} = 0$$"
      ]
     },
     "execution_count": 17,
     "metadata": {},
     "output_type": "execute_result"
    }
   ],
   "source": [
    "DE9:=mulDalg([DE5,DE6],[x(t),y(t)],z(t))"
   ]
  },
  {
   "cell_type": "code",
   "execution_count": 18,
   "id": "47a64d4d",
   "metadata": {},
   "outputs": [
    {
     "data": {
      "text/markdown": [
       "$$0 = 0$$"
      ]
     },
     "execution_count": 18,
     "metadata": {},
     "output_type": "execute_result"
    }
   ],
   "source": [
    "simplify(eval(DE9,z(t)=1/sin(t)*log(1+t)))"
   ]
  },
  {
   "cell_type": "code",
   "execution_count": 19,
   "id": "bb3d94ed",
   "metadata": {},
   "outputs": [
    {
     "data": {
      "text/plain": [
       "kilobytes used=5988632, alloc=221680, time=707.76"
      ]
     },
     "metadata": {},
     "output_type": "display_data"
    },
    {
     "data": {
      "text/markdown": [
       "$$\\left(8 t^{4}+32 t^{3}+47 t^{2}+30 t +9\\right) z \\left(t \\right)^{2}+\\left(20 t^{3}+60 t^{2}+58 t +18\\right) \\left(\\frac{d}{d t}z \\left(t \\right)\\right) z \\left(t \\right)+\\left(8 t^{4}+32 t^{3}+56 t^{2}+48 t +18\\right) z \\left(t \\right) \\left(\\frac{d^{2}}{d t^{2}}z \\left(t \\right)\\right)+\\left(8 t^{3}+24 t^{2}+25 t +9\\right) \\left(\\frac{d^{3}}{d t^{3}}z \\left(t \\right)\\right) z \\left(t \\right)+\\left(12 t^{4}+48 t^{3}+70 t^{2}+44 t +10\\right) \\left(\\frac{d}{d t}z \\left(t \\right)\\right)^{2}+\\left(24 t^{3}+72 t^{2}+69 t +21\\right) \\left(\\frac{d}{d t}z \\left(t \\right)\\right) \\left(\\frac{d^{2}}{d t^{2}}z \\left(t \\right)\\right)+\\left(16 t^{4}+64 t^{3}+94 t^{2}+60 t +14\\right) \\left(\\frac{d}{d t}z \\left(t \\right)\\right) \\left(\\frac{d^{3}}{d t^{3}}z \\left(t \\right)\\right)+\\left(9 t^{2}+18 t +9\\right) \\left(\\frac{d^{2}}{d t^{2}}z \\left(t \\right)\\right)^{2}+\\left(12 t^{3}+36 t^{2}+36 t +12\\right) \\left(\\frac{d^{2}}{d t^{2}}z \\left(t \\right)\\right) \\left(\\frac{d^{3}}{d t^{3}}z \\left(t \\right)\\right)+\\left(4 t^{4}+16 t^{3}+24 t^{2}+16 t +4\\right) \\left(\\frac{d^{3}}{d t^{3}}z \\left(t \\right)\\right)^{2} = 0$$"
      ]
     },
     "execution_count": 19,
     "metadata": {},
     "output_type": "execute_result"
    }
   ],
   "source": [
    "DE10:=divDalg([DE5,DE6],[x(t),y(t)],z(t))"
   ]
  },
  {
   "cell_type": "code",
   "execution_count": 20,
   "id": "afa4a49e",
   "metadata": {},
   "outputs": [
    {
     "data": {
      "text/markdown": [
       "$$0 = 0$$"
      ]
     },
     "execution_count": 20,
     "metadata": {},
     "output_type": "execute_result"
    }
   ],
   "source": [
    "simplify(eval(DE10,z(t)=sin(t)*log(1+t)))"
   ]
  },
  {
   "cell_type": "code",
   "execution_count": 21,
   "id": "27b66b0a",
   "metadata": {},
   "outputs": [
    {
     "data": {
      "text/markdown": [
       "$$-27 z \\left(t \\right)^{2}+\\left(t^{3}+3 t^{2}+3 t +1\\right) \\left(\\frac{d}{d t}z \\left(t \\right)\\right)^{3} = 0$$"
      ]
     },
     "execution_count": 21,
     "metadata": {},
     "output_type": "execute_result"
    }
   ],
   "source": [
    "DE11:=unaryDalg(DE5,x(t),z=(x+1)^3)"
   ]
  },
  {
   "cell_type": "code",
   "execution_count": 23,
   "id": "5f49199f",
   "metadata": {},
   "outputs": [
    {
     "data": {
      "text/markdown": [
       "$$0 = 0$$"
      ]
     },
     "execution_count": 23,
     "metadata": {},
     "output_type": "execute_result"
    }
   ],
   "source": [
    "simplify(eval(DE11,z(t)=(log(1+t)^3)))"
   ]
  },
  {
   "cell_type": "code",
   "execution_count": null,
   "id": "af953f40",
   "metadata": {},
   "outputs": [],
   "source": []
  }
 ],
 "metadata": {
  "kernelspec": {
   "display_name": "Maple 2022",
   "language": "maple",
   "name": "maple"
  },
  "language_info": {
   "file_extension": ".mpl",
   "mimetype": "application/vnd.maple.mpl",
   "name": "maple",
   "version": "2022"
  }
 },
 "nbformat": 4,
 "nbformat_minor": 5
}
